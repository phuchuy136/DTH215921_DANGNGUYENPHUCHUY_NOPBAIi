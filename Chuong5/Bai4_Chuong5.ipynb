{
 "cells": [
  {
   "cell_type": "markdown",
   "id": "837b98ef",
   "metadata": {},
   "source": [
    "Trình bày một số hàm quan trọng trong xử lý Chuỗi của Python"
   ]
  },
  {
   "cell_type": "code",
   "execution_count": null,
   "id": "a3eeb808",
   "metadata": {
    "vscode": {
     "languageId": "plaintext"
    }
   },
   "outputs": [],
   "source": []
  }
 ],
 "metadata": {
  "language_info": {
   "name": "python"
  }
 },
 "nbformat": 4,
 "nbformat_minor": 5
}
